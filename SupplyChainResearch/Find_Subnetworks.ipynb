{
  "cells": [
    {
      "cell_type": "code",
      "execution_count": 46,
      "metadata": {
        "id": "ph4x8tR3yU-H"
      },
      "outputs": [],
      "source": [
        "import numpy as np\n",
        "import copy"
      ]
    },
    {
      "cell_type": "markdown",
      "metadata": {
        "id": "YY78CVnJIy8y"
      },
      "source": [
        "## Find subnetworks"
      ]
    },
    {
      "cell_type": "code",
      "execution_count": 47,
      "metadata": {
        "id": "eU79_0YuF_CP"
      },
      "outputs": [],
      "source": [
        "# Create a dictionary from adjaciency matrix\n",
        "# key (each node) and value (the corresponding pre-nodes)\n",
        "\n",
        "def nodes_dict(A): # A: adjaciency matrix\n",
        "  B = {} # initalize an empty dictionary to store the nodes and edges\n",
        "  for i in range(len(A)):\n",
        "    quan_list = np.array(list(set(A[:,i]))) # at each column grab the values going from that node\n",
        "    quan_list = quan_list[quan_list != 0]\n",
        "\n",
        "    pre_nodes = []\n",
        "    for j in quan_list:\n",
        "      pre_nodes.append(list(np.where(A[:,i]==j)[0])) # add to the nodes list for each quantity\n",
        "    B[i] = pre_nodes # save the nodes\n",
        "\n",
        "  return B # return the dictionary"
      ]
    },
    {
      "cell_type": "code",
      "execution_count": 48,
      "metadata": {
        "id": "bTaNE5txGFbd"
      },
      "outputs": [],
      "source": [
        "# Create a list of edge-lists of all subnetworks\n",
        "# x0: starting node\n",
        "# path: node flow -- nodes_dict(A)\n",
        "\n",
        "def find_subnws(x0,path):\n",
        "  D,Track = {},path.copy()\n",
        "  NWs = []\n",
        "  node_list, edge_list = [], []\n",
        "  branch,restore = [],[]\n",
        "  check = [x0]\n",
        "  next = 1\n",
        "\n",
        "  while(1):\n",
        "    while(next):\n",
        "      next,rr = [],[]\n",
        "      for x0 in check:\n",
        "        if x0 not in node_list:\n",
        "          D[x0] = Track[x0][0]\n",
        "        if len(Track[x0]) > 1:\n",
        "          Track[x0] = Track[x0][1:]\n",
        "          branch.append([node_list.copy(),edge_list.copy(),check.copy()])\n",
        "          restore.append(check)\n",
        "        node_list.append(x0)\n",
        "        for i in D[x0]:\n",
        "          if [x0,i] not in edge_list:\n",
        "            edge_list.append([x0,i])\n",
        "          if i not in node_list:\n",
        "            next.append(i)\n",
        "      check = next.copy()\n",
        "    NWs.append(edge_list)\n",
        "    if branch:\n",
        "      node_list, edge_list, check = branch[-1]\n",
        "      for pp in restore[-1]:\n",
        "        for kk in path[pp]:\n",
        "          for ll in kk:\n",
        "            if ll not in node_list:\n",
        "              Track[ll] = path[ll]\n",
        "      branch.pop()\n",
        "      restore.pop()\n",
        "      next = 1\n",
        "    else:\n",
        "      break\n",
        "  return NWs"
      ]
    },
    {
      "cell_type": "code",
      "execution_count": 49,
      "metadata": {
        "id": "bW0luL0rOjWw"
      },
      "outputs": [],
      "source": [
        "# create edge-list from adjacency matrix\n",
        "def adj_to_edge(A): # A is an m,n np.array\n",
        "  m,n = np.shape(A)\n",
        "  edges = []\n",
        "  for r in range(m):\n",
        "    for c in range(n):\n",
        "      if A[r,c] != 0: edges.append([r,c,A[r,c]])\n",
        "  return np.array(edges)"
      ]
    },
    {
      "cell_type": "code",
      "execution_count": 50,
      "metadata": {
        "id": "tMhtpgEzOkU0"
      },
      "outputs": [],
      "source": [
        "# create adjacency matrix from edge-list\n",
        "def edge_to_adj(E,n): # E is an edge-list of an nxn matrix\n",
        "  A = np.zeros((n,n))\n",
        "  for r,c in E:\n",
        "    A[c,r] = 1\n",
        "  return A"
      ]
    },
    {
      "cell_type": "markdown",
      "metadata": {
        "id": "8nzVxdaKLBbA"
      },
      "source": [
        "## Test"
      ]
    },
    {
      "cell_type": "code",
      "execution_count": 51,
      "metadata": {
        "colab": {
          "base_uri": "https://localhost:8080/"
        },
        "id": "7olp1V9GIvf0",
        "outputId": "3f5ecd20-0b00-444d-f81b-8743de935b8d"
      },
      "outputs": [
        {
          "name": "stdout",
          "output_type": "stream",
          "text": [
            "{0: [[1], [2, 3]], 1: [[0]], 2: [[1]], 3: [[1]]}\n",
            "[[0 1 0 0]\n",
            " [1 0 2 2]\n",
            " [3 0 0 0]\n",
            " [3 0 0 0]] \n",
            "\n",
            "\n",
            "Number of subnetworks: 2\n",
            "Starting node: 3\n",
            "[[3, 1], [1, 0], [0, 1]]\n",
            "[[0. 1. 0. 0.]\n",
            " [1. 0. 0. 1.]\n",
            " [0. 0. 0. 0.]\n",
            " [0. 0. 0. 0.]] \n",
            "\n",
            "[[3, 1], [1, 0], [0, 2], [0, 3], [2, 1]]\n",
            "[[0. 1. 0. 0.]\n",
            " [0. 0. 1. 1.]\n",
            " [1. 0. 0. 0.]\n",
            " [1. 0. 0. 0.]] \n",
            "\n"
          ]
        }
      ],
      "source": [
        "# starting node\n",
        "x0 = 3\n",
        "# adjacency matrix\n",
        "a = np.array([[0,1,0,0],[1,0,2,2],[3,0,0,0],[3,0,0,0]])\n",
        "node_flow = nodes_dict(a)\n",
        "NWs = find_subnws(x0,node_flow)\n",
        "\n",
        "print(node_flow)\n",
        "print(a,'\\n\\n')\n",
        "print(f'Number of subnetworks: {len(NWs)}')\n",
        "print(f'Starting node: {x0}')\n",
        "for i in NWs:\n",
        "  print(i)\n",
        "  print(edge_to_adj(i,4),'\\n')"
      ]
    },
    {
      "cell_type": "code",
      "execution_count": 52,
      "metadata": {},
      "outputs": [
        {
          "name": "stdout",
          "output_type": "stream",
          "text": [
            "i 0\n",
            "node 1\n",
            "i 1\n",
            "node 2\n",
            "node 3\n"
          ]
        },
        {
          "data": {
            "text/plain": [
              "[[(0, 1), (1, 0)], [(0, 2), (2, 1), (0, 3), (3, 1)]]"
            ]
          },
          "execution_count": 52,
          "metadata": {},
          "output_type": "execute_result"
        }
      ],
      "source": [
        "transitions = []\n",
        "x0 = 0\n",
        "for i in range(len(node_flow[x0])):\n",
        "    print('i', i)\n",
        "    current = x0\n",
        "    trans = []\n",
        "    for node in node_flow[x0][i]:\n",
        "        print('node', node)\n",
        "        trans.append((current, node))\n",
        "        for node2 in node_flow[node]:\n",
        "            trans.append((node, node2[0]))\n",
        "    transitions.append(trans)\n",
        "\n",
        "transitions\n"
      ]
    },
    {
      "cell_type": "code",
      "execution_count": 53,
      "metadata": {},
      "outputs": [],
      "source": [
        "temp_dic = copy.deepcopy(node_flow)\n",
        "node = 0\n",
        "temp_dic\n",
        "edges = []"
      ]
    },
    {
      "cell_type": "code",
      "execution_count": 54,
      "metadata": {},
      "outputs": [
        {
          "name": "stdout",
          "output_type": "stream",
          "text": [
            "[[0]]\n"
          ]
        }
      ],
      "source": [
        "new_nodes = temp_dic[node][0]\n",
        "for n in new_nodes:\n",
        "    edges.append((node, n))\n",
        "    print(temp_dic[n])"
      ]
    },
    {
      "cell_type": "code",
      "execution_count": 55,
      "metadata": {},
      "outputs": [
        {
          "data": {
            "text/plain": [
              "{0: [[1], [2, 3]], 1: [[0]], 2: [[1]], 3: [[1]]}"
            ]
          },
          "execution_count": 55,
          "metadata": {},
          "output_type": "execute_result"
        }
      ],
      "source": [
        "node_flow"
      ]
    },
    {
      "cell_type": "code",
      "execution_count": 56,
      "metadata": {},
      "outputs": [
        {
          "data": {
            "text/plain": [
              "{}"
            ]
          },
          "execution_count": 56,
          "metadata": {},
          "output_type": "execute_result"
        }
      ],
      "source": [
        "visited = {}\n",
        "unvisited = copy.deepcopy(node_flow)\n",
        "visited"
      ]
    },
    {
      "cell_type": "code",
      "execution_count": 57,
      "metadata": {},
      "outputs": [],
      "source": [
        "start = 0\n",
        "subnetworks = []\n",
        "# first pass with the starting node\n",
        "for i in range(len(unvisited[start])):\n",
        "    coming = unvisited[start][i]\n",
        "    tups = [(start, node) for node in coming]\n",
        "    subnetworks.append(tups)\n",
        "\n",
        "next_nodes = unvisited[start]\n",
        "visited[start] = next_nodes\n",
        "unvisited.pop(start)\n",
        "\n",
        "# this works but i am needing to get the last wrap around added like (1,0) in the second subnet\n",
        "for net, nodes in enumerate(next_nodes):\n",
        "    for node in nodes:\n",
        "        for i in range(len(unvisited[node])):\n",
        "            coming = unvisited[node][i]\n",
        "            tups = [(node, next) for next in coming]\n",
        "            # this step doesn't work TODO figure out how to make this work\n",
        "            for next in coming:\n",
        "                if next in visited.keys():\n",
        "                    temp = visited[next]\n",
        "                    tups = tups + [(next, next2) for next2 in temp]\n",
        "            subnetworks[net] = subnetworks[net] + tups\n",
        "            visited[node] = unvisited[node]\n",
        "            unvisited.pop(node)\n",
        "\n",
        "\n",
        "            \n",
        "\n"
      ]
    },
    {
      "cell_type": "code",
      "execution_count": 58,
      "metadata": {},
      "outputs": [
        {
          "data": {
            "text/plain": [
              "[[(0, 1), (1, 0), (0, [1]), (0, [2, 3])],\n",
              " [(0, 2), (0, 3), (2, 1), (1, [0]), (3, 1), (1, [0])]]"
            ]
          },
          "execution_count": 58,
          "metadata": {},
          "output_type": "execute_result"
        }
      ],
      "source": [
        "subnetworks"
      ]
    },
    {
      "cell_type": "code",
      "execution_count": 59,
      "metadata": {},
      "outputs": [
        {
          "data": {
            "text/plain": [
              "{0: [[1], [2, 3]], 1: [[0]], 2: [[1]], 3: [[1]]}"
            ]
          },
          "execution_count": 59,
          "metadata": {},
          "output_type": "execute_result"
        }
      ],
      "source": [
        "visited"
      ]
    },
    {
      "cell_type": "code",
      "execution_count": 60,
      "metadata": {},
      "outputs": [
        {
          "data": {
            "text/plain": [
              "{0: [[1], [2, 3]], 1: [[0]], 2: [[1]], 3: [[1]]}"
            ]
          },
          "execution_count": 60,
          "metadata": {},
          "output_type": "execute_result"
        }
      ],
      "source": [
        "node_flow"
      ]
    },
    {
      "cell_type": "code",
      "execution_count": 61,
      "metadata": {},
      "outputs": [
        {
          "data": {
            "text/plain": [
              "[(0, 2), (2, 1), (0, 3), (3, 1)]"
            ]
          },
          "execution_count": 61,
          "metadata": {},
          "output_type": "execute_result"
        }
      ],
      "source": [
        "x0 = 0\n",
        "connecting = node_flow[x0]\n",
        "subnetwork = []\n",
        "for n in connecting[1]:\n",
        "    subnetwork.append((x0, n))\n",
        "    for k in node_flow[n][0]:\n",
        "        subnetwork.append((n, k))\n",
        "subnetwork"
      ]
    },
    {
      "cell_type": "code",
      "execution_count": 62,
      "metadata": {},
      "outputs": [
        {
          "name": "stdout",
          "output_type": "stream",
          "text": [
            "[1]\n",
            "1 [0] [0, 1]\n",
            "0 [1] [0, 1, 0]\n"
          ]
        },
        {
          "data": {
            "text/plain": [
              "[(0, 1), (1, 0)]"
            ]
          },
          "execution_count": 62,
          "metadata": {},
          "output_type": "execute_result"
        }
      ],
      "source": [
        "x0 = 0\n",
        "current = x0\n",
        "next = node_flow[current][0]\n",
        "visited = [x0]\n",
        "subnetwork = []\n",
        "go = True\n",
        "print(next)\n",
        "while go:\n",
        "    go = not set(next).issubset(set(visited))\n",
        "    for n in next:\n",
        "        subnetwork.append((current, n))\n",
        "        visited.append(n)\n",
        "    current = next[0]\n",
        "    next = node_flow[current][0]\n",
        "    print(current, next, visited)\n",
        "    \n",
        "\n",
        "subnetwork"
      ]
    },
    {
      "cell_type": "code",
      "execution_count": 63,
      "metadata": {},
      "outputs": [
        {
          "name": "stdout",
          "output_type": "stream",
          "text": [
            "False\n"
          ]
        }
      ],
      "source": [
        "l = [1,2,3]\n",
        "print(not {1,2}.issubset(set(l)))"
      ]
    },
    {
      "cell_type": "code",
      "execution_count": null,
      "metadata": {},
      "outputs": [],
      "source": []
    }
  ],
  "metadata": {
    "colab": {
      "collapsed_sections": [
        "YY78CVnJIy8y",
        "8nzVxdaKLBbA"
      ],
      "provenance": []
    },
    "kernelspec": {
      "display_name": "Python 3",
      "name": "python3"
    },
    "language_info": {
      "codemirror_mode": {
        "name": "ipython",
        "version": 3
      },
      "file_extension": ".py",
      "mimetype": "text/x-python",
      "name": "python",
      "nbconvert_exporter": "python",
      "pygments_lexer": "ipython3",
      "version": "3.10.14"
    }
  },
  "nbformat": 4,
  "nbformat_minor": 0
}
