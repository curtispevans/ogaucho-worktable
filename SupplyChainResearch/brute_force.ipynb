{
 "cells": [
  {
   "cell_type": "code",
   "execution_count": 1,
   "metadata": {},
   "outputs": [],
   "source": [
    "import numpy as np\n",
    "import copy"
   ]
  },
  {
   "cell_type": "code",
   "execution_count": 2,
   "metadata": {},
   "outputs": [],
   "source": [
    "# Create a dictionary from adjaciency matrix\n",
    "# key (each node) and value (the corresponding pre-nodes)\n",
    "\n",
    "def nodes_dict(A): # A: adjaciency matrix\n",
    "  B = {} # initalize an empty dictionary to store the nodes and edges\n",
    "  for i in range(len(A)):\n",
    "    quan_list = np.array(list(set(A[:,i]))) # at each column grab the values going from that node\n",
    "    quan_list = quan_list[quan_list != 0]\n",
    "\n",
    "    pre_nodes = []\n",
    "    for j in quan_list:\n",
    "      pre_nodes.append(list(np.where(A[:,i]==j)[0])) # add to the nodes list for each quantity\n",
    "    B[i] = pre_nodes # save the nodes\n",
    "\n",
    "  return B # return the dictionary\n",
    "\n",
    "# create edge-list from adjacency matrix\n",
    "def adj_to_edge(A): # A is an m,n np.array\n",
    "  m,n = np.shape(A)\n",
    "  edges = []\n",
    "  for r in range(m):\n",
    "    for c in range(n):\n",
    "      if A[r,c] != 0: edges.append([r,c,A[r,c]])\n",
    "  return np.array(edges)\n",
    "\n",
    "# create adjacency matrix from edge-list\n",
    "def edge_to_adj(E,n): # E is an edge-list of an nxn matrix\n",
    "  A = np.zeros((n,n))\n",
    "  for r,c in E:\n",
    "    A[c,r] = 1\n",
    "  return A"
   ]
  },
  {
   "cell_type": "code",
   "execution_count": 57,
   "metadata": {},
   "outputs": [],
   "source": [
    "def find_subnetworks(node_flow, x0):\n",
    "    '''\n",
    "    This makes the subnetworks for the colored graphs.\n",
    "    Attributes:\n",
    "        node_flow : (dic) this is the way we are describing the graphs.\n",
    "        x0 : (int) the starting node you want to start.\n",
    "\n",
    "    Returns:\n",
    "        subnetworks : (list) this returns a list of lists with the subnetworks.\n",
    "        '''\n",
    "    # set the current node to be x0 and initialize an empty subnetworks list\n",
    "    current = [x0]\n",
    "    subnetworks = []\n",
    "\n",
    "    for i in range(len(node_flow[current[0]])): # go through all the nodes pointing to x0\n",
    "        next = node_flow[current[0]][i] # save the next nodes\n",
    "        visited = [x0] # set visited to just x0\n",
    "        subnetwork = [] \n",
    "        go = True # set go to be true\n",
    "        # print(next)\n",
    "        while go:\n",
    "            \n",
    "            go = not set(next).issubset(set(visited))\n",
    "            for c in current:\n",
    "                for n in next:\n",
    "                    subnetwork.append((c, n))\n",
    "                    visited.append(n)\n",
    "                # current = next[0]\n",
    "                # TODO figure out how to go through the ones with multiple nexts\n",
    "            current = next\n",
    "            if len(current) == 1:\n",
    "                next = node_flow[current[0]][0]\n",
    "            else:\n",
    "                next = []\n",
    "                for c in current:\n",
    "                    next += node_flow[c][0]\n",
    "                print(next)\n",
    "                next = list(set(next))\n",
    "            # next = node_flow[current]\n",
    "            # print(current, next, visited)\n",
    "        subnetworks.append(subnetwork)\n",
    "    \n",
    "    return subnetworks\n",
    "    \n",
    "\n",
    "def tester(A):\n",
    "    node_flow = nodes_dict(A)\n",
    "    print(f\"Node flow:\\n{node_flow}\\n\")\n",
    "\n",
    "    for i in range(len(A)):\n",
    "        subnetworks = find_subnetworks(node_flow, i)\n",
    "        print(f\"Subnetworks with x0 = {i}:\\n{subnetworks}\\n\")\n",
    "\n"
   ]
  },
  {
   "cell_type": "code",
   "execution_count": 58,
   "metadata": {},
   "outputs": [
    {
     "name": "stdout",
     "output_type": "stream",
     "text": [
      "Node flow:\n",
      "{0: [[3], [1]], 1: [[0]], 2: [[1]], 3: [[2]]}\n",
      "\n",
      "Subnetworks with x0 = 0:\n",
      "[[(0, 3), (3, 2), (2, 1), (1, 0)], [(0, 1), (1, 0)]]\n",
      "\n",
      "Subnetworks with x0 = 1:\n",
      "[[(1, 0), (0, 3), (3, 2), (2, 1)]]\n",
      "\n",
      "Subnetworks with x0 = 2:\n",
      "[[(2, 1), (1, 0), (0, 3), (3, 2)]]\n",
      "\n",
      "Subnetworks with x0 = 3:\n",
      "[[(3, 2), (2, 1), (1, 0), (0, 3)]]\n",
      "\n"
     ]
    }
   ],
   "source": [
    "A = np.array([[0, 1, 0, 0],\n",
    "              [2, 0, 1, 0],\n",
    "              [0, 0, 0, 1],\n",
    "              [1, 0, 0, 0]])\n",
    "tester(A)"
   ]
  },
  {
   "cell_type": "code",
   "execution_count": 59,
   "metadata": {},
   "outputs": [
    {
     "name": "stdout",
     "output_type": "stream",
     "text": [
      "Node flow:\n",
      "{0: [[1], [2, 3]], 1: [[0]], 2: [[1]], 3: [[1]]}\n",
      "\n",
      "[1, 1]\n",
      "Subnetworks with x0 = 0:\n",
      "[[(0, 1), (1, 0)], [(0, 2), (0, 3), (2, 1), (3, 1), (1, 0)]]\n",
      "\n",
      "Subnetworks with x0 = 1:\n",
      "[[(1, 0), (0, 1)]]\n",
      "\n",
      "Subnetworks with x0 = 2:\n",
      "[[(2, 1), (1, 0), (0, 1)]]\n",
      "\n",
      "Subnetworks with x0 = 3:\n",
      "[[(3, 1), (1, 0), (0, 1)]]\n",
      "\n"
     ]
    }
   ],
   "source": [
    "A = np.array([[0,1,0,0],\n",
    "              [1,0,2,2],\n",
    "              [3,0,0,0],\n",
    "              [3,0,0,0]])\n",
    "tester(A)"
   ]
  },
  {
   "cell_type": "code",
   "execution_count": 29,
   "metadata": {},
   "outputs": [
    {
     "data": {
      "text/plain": [
       "[0, 3]"
      ]
     },
     "execution_count": 29,
     "metadata": {},
     "output_type": "execute_result"
    }
   ],
   "source": [
    "[] + [0] + [3]"
   ]
  },
  {
   "cell_type": "code",
   "execution_count": null,
   "metadata": {},
   "outputs": [],
   "source": []
  }
 ],
 "metadata": {
  "kernelspec": {
   "display_name": "Python 3",
   "language": "python",
   "name": "python3"
  },
  "language_info": {
   "codemirror_mode": {
    "name": "ipython",
    "version": 3
   },
   "file_extension": ".py",
   "mimetype": "text/x-python",
   "name": "python",
   "nbconvert_exporter": "python",
   "pygments_lexer": "ipython3",
   "version": "3.10.14"
  }
 },
 "nbformat": 4,
 "nbformat_minor": 2
}
