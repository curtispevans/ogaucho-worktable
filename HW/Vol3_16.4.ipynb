{
 "cells": [
  {
   "cell_type": "code",
   "execution_count": 1,
   "metadata": {},
   "outputs": [],
   "source": [
    "import jax.numpy as jnp\n",
    "import numpy as np\n",
    "from jax import jacfwd, jacrev\n",
    "import time"
   ]
  },
  {
   "cell_type": "code",
   "execution_count": 10,
   "metadata": {},
   "outputs": [
    {
     "name": "stdout",
     "output_type": "stream",
     "text": [
      "Time for jacfwd 0.6742861270904541\n",
      "Time for jacrev 1.1058948040008545\n"
     ]
    }
   ],
   "source": [
    "f1 = lambda x: jnp.array([jnp.prod(x[i:i+5]) for i in range(0,len(x),5)])\n",
    "f2 = lambda x: jnp.array([jnp.prod(x[i:i+30]) for i in range(0,len(x)-100,30)])\n",
    "f3 = lambda x: jnp.prod(x)\n",
    "x = np.random.random(5000)\n",
    "x = jnp.array(x)\n",
    "F = lambda x: f3(f2(f1(x)))\n",
    "\n",
    "start = time.time()\n",
    "jacfwd(F)(x)\n",
    "print(f'Time for jacfwd {time.time()-start}')\n",
    "\n",
    "start = time.time()\n",
    "jacrev(F)(x)\n",
    "print(f'Time for jacrev {time.time()-start}')\n"
   ]
  },
  {
   "cell_type": "code",
   "execution_count": 11,
   "metadata": {},
   "outputs": [],
   "source": [
    "g1 = lambda x: jnp.array([x**i for i in range(30)])\n",
    "g2 = lambda x: jnp.array([x[i%30]*x[i%10] for i in range(1000)])\n",
    "g3 = lambda x: jnp.array([x[i%1000]*x[i%30]*x[i%6] for i in range(5000)])\n",
    "G = lambda x: g3(g2(g1(x)))\n",
    "\n",
    "x = np.random.random(1)"
   ]
  },
  {
   "cell_type": "code",
   "execution_count": 12,
   "metadata": {},
   "outputs": [
    {
     "name": "stdout",
     "output_type": "stream",
     "text": [
      "Time for jacfwd 11.758502721786499\n",
      "Time for jacrev 53.85372304916382\n"
     ]
    }
   ],
   "source": [
    "start = time.time()\n",
    "jacfwd(G)(x)\n",
    "print(f'Time for jacfwd {time.time()-start}')\n",
    "\n",
    "start = time.time()\n",
    "jacrev(G)(x)\n",
    "print(f'Time for jacrev {time.time()-start}')\n"
   ]
  },
  {
   "cell_type": "markdown",
   "metadata": {},
   "source": [
    "My first one the jacfwd was faster than jacrev which doesn't match the book. I suspect that the forward computation is faster in the second case because we are doing $O(1*30*1000) + O(30*1000*5000)$ instead of $O(5000*1000*30) + O(5000*1000*30*1)$"
   ]
  },
  {
   "cell_type": "code",
   "execution_count": 13,
   "metadata": {},
   "outputs": [
    {
     "name": "stdout",
     "output_type": "stream",
     "text": [
      "Time for fwd(rev) 18.935773134231567\n",
      "Time for rev(rev) 21.346662998199463\n"
     ]
    }
   ],
   "source": [
    "x = np.random.random(5000)\n",
    "x = jnp.array(x)\n",
    "\n",
    "start = time.time()\n",
    "(jacfwd(jacrev(F)))(x)\n",
    "print(f'Time for fwd(rev) {time.time() - start}')\n",
    "\n",
    "start = time.time()\n",
    "(jacrev(jacrev(F)))(x)\n",
    "print(f'Time for rev(rev) {time.time()  - start}')"
   ]
  },
  {
   "cell_type": "markdown",
   "metadata": {},
   "source": [
    "I don't see a great difference in results because the complexity doing the second derivative is going to be the same due to the order of operations."
   ]
  },
  {
   "cell_type": "code",
   "execution_count": 14,
   "metadata": {},
   "outputs": [
    {
     "name": "stdout",
     "output_type": "stream",
     "text": [
      "Time for fwd 9.071834802627563\n",
      "Time for rev 65.92943000793457\n"
     ]
    }
   ],
   "source": [
    "H = lambda x: G(F(x))\n",
    "\n",
    "start = time.time()\n",
    "jacfwd(H)(x)\n",
    "print(f'Time for fwd {time.time() - start}')\n",
    "\n",
    "start = time.time()\n",
    "jacrev(H)(x)\n",
    "print(f\"Time for rev {time.time() - start}\")"
   ]
  },
  {
   "cell_type": "code",
   "execution_count": null,
   "metadata": {},
   "outputs": [],
   "source": []
  }
 ],
 "metadata": {
  "kernelspec": {
   "display_name": "Python 3",
   "language": "python",
   "name": "python3"
  },
  "language_info": {
   "codemirror_mode": {
    "name": "ipython",
    "version": 3
   },
   "file_extension": ".py",
   "mimetype": "text/x-python",
   "name": "python",
   "nbconvert_exporter": "python",
   "pygments_lexer": "ipython3",
   "version": "3.10.14"
  }
 },
 "nbformat": 4,
 "nbformat_minor": 2
}
